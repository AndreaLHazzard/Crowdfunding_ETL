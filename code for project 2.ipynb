{
 "cells": [
  {
   "cell_type": "code",
   "execution_count": 2,
   "metadata": {},
   "outputs": [
    {
     "name": "stdout",
     "output_type": "stream",
     "text": [
      "  category_id      category\n",
      "0        cat1          food\n",
      "1        cat2         music\n",
      "2        cat3    technology\n",
      "3        cat4       theater\n",
      "4        cat5  film & video\n",
      "5        cat6    publishing\n",
      "6        cat7         games\n",
      "7        cat8   photography\n",
      "8        cat9    journalism\n"
     ]
    }
   ],
   "source": [
    "import pandas as pd\n",
    "\n",
    "# Load the Excel file\n",
    "file_path = \"Resources/crowdfunding.xlsx\"  \n",
    "data = pd.ExcelFile(file_path)\n",
    "\n",
    "# Load the relevant sheet into a DataFrame\n",
    "df = data.parse('crowdfunding_info')  \n",
    "\n",
    "# Extract the 'category & sub-category' column\n",
    "categories_column = df['category & sub-category']\n",
    "\n",
    "# Extract unique categories by splitting at the '/' and taking the first part\n",
    "unique_categories = categories_column.str.split('/').str[0].unique()\n",
    "\n",
    "# Create the category DataFrame\n",
    "category_df = pd.DataFrame({\n",
    "    'category_id': [f'cat{i+1}' for i in range(len(unique_categories))],\n",
    "    'category': unique_categories\n",
    "})\n",
    "\n",
    "# Display the resulting DataFrame\n",
    "print(category_df)\n"
   ]
  }
 ],
 "metadata": {
  "kernelspec": {
   "display_name": "base",
   "language": "python",
   "name": "python3"
  },
  "language_info": {
   "codemirror_mode": {
    "name": "ipython",
    "version": 3
   },
   "file_extension": ".py",
   "mimetype": "text/x-python",
   "name": "python",
   "nbconvert_exporter": "python",
   "pygments_lexer": "ipython3",
   "version": "3.12.2"
  }
 },
 "nbformat": 4,
 "nbformat_minor": 2
}
