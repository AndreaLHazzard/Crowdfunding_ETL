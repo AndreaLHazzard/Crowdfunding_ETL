{
 "cells": [
  {
   "cell_type": "code",
   "execution_count": 3,
   "metadata": {},
   "outputs": [
    {
     "name": "stdout",
     "output_type": "stream",
     "text": [
      "  subcategory_id   subcategory\n",
      "0        subcat1          food\n",
      "1        subcat2         music\n",
      "2        subcat3    technology\n",
      "3        subcat4       theater\n",
      "4        subcat5  film & video\n",
      "5        subcat6    publishing\n",
      "6        subcat7         games\n",
      "7        subcat8   photography\n",
      "8        subcat9    journalism\n"
     ]
    }
   ],
   "source": [
    "import pandas as pd\n",
    "\n",
    "# Load the Excel file\n",
    "file_path = \"Resources/crowdfunding.xlsx\"  \n",
    "data = pd.ExcelFile(file_path)\n",
    "\n",
    "# Load the relevant sheet into a DataFrame\n",
    "df = data.parse('crowdfunding_info')  \n",
    "\n",
    "# Extract the 'category & sub-category' column\n",
    "categories_column = df['category & sub-category']\n",
    "\n",
    "# Extract unique subcategories by splitting at the '/' and taking the first part\n",
    "unique_subcategories = categories_column.str.split('/').str[0].unique()\n",
    "\n",
    "# Create the category DataFrame\n",
    "subcategory_df = pd.DataFrame({\n",
    "    'subcategory_id': [f'subcat{i+1}' for i in range(len(unique_subcategories))],\n",
    "    'subcategory': unique_subcategories\n",
    "})\n",
    "\n",
    "# Display the resulting DataFrame\n",
    "print(subcategory_df)\n",
    "\n",
    "subcategory_df.to_csv(\"Resources/subcategory.csv\", index=False)"
   ]
  }
 ],
 "metadata": {
  "kernelspec": {
   "display_name": "dev",
   "language": "python",
   "name": "python3"
  },
  "language_info": {
   "codemirror_mode": {
    "name": "ipython",
    "version": 3
   },
   "file_extension": ".py",
   "mimetype": "text/x-python",
   "name": "python",
   "nbconvert_exporter": "python",
   "pygments_lexer": "ipython3",
   "version": "3.12.7"
  }
 },
 "nbformat": 4,
 "nbformat_minor": 2
}
