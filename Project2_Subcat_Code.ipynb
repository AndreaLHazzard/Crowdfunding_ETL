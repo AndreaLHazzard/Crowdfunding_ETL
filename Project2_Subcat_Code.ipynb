{
 "cells": [
  {
   "cell_type": "code",
   "execution_count": 13,
   "metadata": {},
   "outputs": [
    {
     "name": "stdout",
     "output_type": "stream",
     "text": [
      "   subcategory_id        subcategory\n",
      "0         subcat1        food trucks\n",
      "1         subcat2               rock\n",
      "2         subcat3                web\n",
      "3         subcat4              plays\n",
      "4         subcat5        documentary\n",
      "5         subcat6     electric music\n",
      "6         subcat7              drama\n",
      "7         subcat8         indie rock\n",
      "8         subcat9          wearables\n",
      "9        subcat10         nonfiction\n",
      "10       subcat11          animation\n",
      "11       subcat12        video games\n",
      "12       subcat13             shorts\n",
      "13       subcat14            fiction\n",
      "14       subcat15  photography books\n",
      "15       subcat16   radio & podcasts\n",
      "16       subcat17              metal\n",
      "17       subcat18               jazz\n",
      "18       subcat19       translations\n",
      "19       subcat20         television\n",
      "20       subcat21       mobile games\n",
      "21       subcat22        world music\n",
      "22       subcat23    science fiction\n",
      "23       subcat24              audio\n"
     ]
    }
   ],
   "source": [
    "import pandas as pd\n",
    "\n",
    "# Load the Excel file\n",
    "file_path = \"Resources/crowdfunding.xlsx\"  \n",
    "data = pd.ExcelFile(file_path)\n",
    "\n",
    "# Load the relevant sheet into a DataFrame\n",
    "df = data.parse('crowdfunding_info')  \n",
    "\n",
    "# Extract the 'category & sub-category' column\n",
    "categories_column = df['category & sub-category']\n",
    "\n",
    "# Extract unique subcategories by splitting at the '/' and taking the first part\n",
    "unique_subcategories = categories_column.str.split('/').str[1].unique()\n",
    "\n",
    "subcategory_df = pd.DataFrame({\n",
    "    'subcategory_id': [f'subcat{i+1}' for i in range(len(unique_subcategories))],\n",
    "    'subcategory': unique_subcategories\n",
    "})\n",
    "\n",
    "# Display the resulting DataFrame\n",
    "print(subcategory_df)\n",
    "\n",
    "subcategory_df.to_csv(\"Resources/subcategory.csv\", index=False)"
   ]
  }
 ],
 "metadata": {
  "kernelspec": {
   "display_name": "dev",
   "language": "python",
   "name": "python3"
  },
  "language_info": {
   "codemirror_mode": {
    "name": "ipython",
    "version": 3
   },
   "file_extension": ".py",
   "mimetype": "text/x-python",
   "name": "python",
   "nbconvert_exporter": "python",
   "pygments_lexer": "ipython3",
   "version": "3.12.7"
  }
 },
 "nbformat": 4,
 "nbformat_minor": 2
}
